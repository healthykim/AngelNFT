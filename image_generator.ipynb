{
 "cells": [
  {
   "cell_type": "code",
   "execution_count": 26,
   "metadata": {},
   "outputs": [],
   "source": [
    "#!pip install image\n",
    "\n",
    "from PIL import Image\n",
    "import random"
   ]
  },
  {
   "cell_type": "code",
   "execution_count": 37,
   "metadata": {},
   "outputs": [],
   "source": [
    "skin_number = 4\n",
    "clothes_number = 3\n",
    "hair_number = 9\n",
    "face_number = 3\n",
    "\n",
    "file_count = skin_number * clothes_number * hair_number\n",
    "file_names = []\n",
    "\n",
    "background_image = Image.open(\"images/background/background0.png\")\n",
    "acc_image = Image.open(\"images/acc/acc0.png\")\n",
    "for clothes in range(clothes_number):\n",
    "    clothes_image = Image.open(\"images/clothes/clothes{}.png\".format(clothes))\n",
    "    for skin in range(skin_number):\n",
    "        skin_image = Image.open(\"images/skin/skin{}.png\".format(skin))\n",
    "        for hair in range(hair_number):\n",
    "            hair_image = Image.open(\"images/hair/hair{}.png\".format(hair))\n",
    "\n",
    "            ### GET RANDOM FACE\n",
    "            random_face = random.randrange(1, 100)\n",
    "            if random_face < 50:\n",
    "                face_image = Image.open(\"images/face/face0.png\")\n",
    "            elif random_face < 80:\n",
    "                face_image = Image.open(\"images/face/face1.png\")\n",
    "            else:\n",
    "                face_image = Image.open(\"images/face/face2.png\")\n",
    "            \n",
    "            ### OVERLAY IMAGE\n",
    "            new_image = Image.new(mode=\"RGB\", size=(background_image.width, background_image.height))\n",
    "            new_image.paste(background_image)\n",
    "            new_image.paste(skin_image, (0,0), mask=skin_image)\n",
    "            new_image.paste(clothes_image, (0,0), mask=clothes_image)\n",
    "            new_image.paste(hair_image, (0,0), mask=hair_image)\n",
    "            new_image.paste(face_image, (0,0), mask=face_image)\n",
    "\n",
    "            ### RANDOM ACC\n",
    "            if random.randrange(1, 100) < 30 :\n",
    "                new_image.paste(acc_image, (0,0), mask=acc_image)\n",
    "\n",
    "            ### SAVE\n",
    "            file_name = random.randrange(0, file_count)\n",
    "            while file_name in file_names:\n",
    "                file_name =  random.randrange(0, file_count)\n",
    "            new_image.save(\"store_images/images/{}.png\".format(file_name), \"png\")\n",
    "            file_names.append(file_name)\n",
    "\n"
   ]
  },
  {
   "cell_type": "code",
   "execution_count": null,
   "metadata": {},
   "outputs": [],
   "source": []
  },
  {
   "cell_type": "code",
   "execution_count": null,
   "metadata": {},
   "outputs": [],
   "source": []
  },
  {
   "cell_type": "code",
   "execution_count": null,
   "metadata": {},
   "outputs": [],
   "source": []
  },
  {
   "cell_type": "code",
   "execution_count": null,
   "metadata": {},
   "outputs": [],
   "source": []
  },
  {
   "cell_type": "code",
   "execution_count": null,
   "metadata": {},
   "outputs": [],
   "source": []
  },
  {
   "cell_type": "code",
   "execution_count": null,
   "metadata": {},
   "outputs": [],
   "source": []
  }
 ],
 "metadata": {
  "kernelspec": {
   "display_name": "Python 3",
   "language": "python",
   "name": "python3"
  },
  "language_info": {
   "codemirror_mode": {
    "name": "ipython",
    "version": 3
   },
   "file_extension": ".py",
   "mimetype": "text/x-python",
   "name": "python",
   "nbconvert_exporter": "python",
   "pygments_lexer": "ipython3",
   "version": "3.8.9"
  },
  "orig_nbformat": 4,
  "vscode": {
   "interpreter": {
    "hash": "31f2aee4e71d21fbe5cf8b01ff0e069b9275f58929596ceb00d14d90e3e16cd6"
   }
  }
 },
 "nbformat": 4,
 "nbformat_minor": 2
}
